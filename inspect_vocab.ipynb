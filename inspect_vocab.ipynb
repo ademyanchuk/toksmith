{
 "cells": [
  {
   "cell_type": "code",
   "execution_count": 1,
   "id": "af0315d4",
   "metadata": {},
   "outputs": [],
   "source": [
    "from toksmith.tokenizer import Tokenizer"
   ]
  },
  {
   "cell_type": "code",
   "execution_count": 38,
   "id": "b004f395",
   "metadata": {},
   "outputs": [],
   "source": [
    "tok = Tokenizer()\n",
    "tok.load_state('owt_train', 'out')"
   ]
  },
  {
   "cell_type": "code",
   "execution_count": 39,
   "id": "2720645a",
   "metadata": {},
   "outputs": [
    {
     "data": {
      "text/plain": [
       "31743"
      ]
     },
     "execution_count": 39,
     "metadata": {},
     "output_type": "execute_result"
    }
   ],
   "source": [
    "len(tok.merges)"
   ]
  },
  {
   "cell_type": "code",
   "execution_count": 40,
   "id": "792203a9",
   "metadata": {},
   "outputs": [
    {
     "data": {
      "text/plain": [
       "32000"
      ]
     },
     "execution_count": 40,
     "metadata": {},
     "output_type": "execute_result"
    }
   ],
   "source": [
    "len(tok.vocab)"
   ]
  },
  {
   "cell_type": "code",
   "execution_count": 41,
   "id": "98505b92",
   "metadata": {},
   "outputs": [],
   "source": [
    "sorted_vocab = [(k, v) for k, v in sorted(tok.vocab.items(), key=lambda x: -len(x[1]))]"
   ]
  },
  {
   "cell_type": "code",
   "execution_count": 45,
   "id": "7e7627cb",
   "metadata": {},
   "outputs": [
    {
     "data": {
      "text/plain": [
       "[(25821,\n",
       "  b'\\xc3\\x83\\xc3\\x82\\xc3\\x83\\xc3\\x82\\xc3\\x83\\xc3\\x82\\xc3\\x83\\xc3\\x82\\xc3\\x83\\xc3\\x82\\xc3\\x83\\xc3\\x82\\xc3\\x83\\xc3\\x82\\xc3\\x83\\xc3\\x82\\xc3\\x83\\xc3\\x82\\xc3\\x83\\xc3\\x82\\xc3\\x83\\xc3\\x82\\xc3\\x83\\xc3\\x82\\xc3\\x83\\xc3\\x82\\xc3\\x83\\xc3\\x82\\xc3\\x83\\xc3\\x82\\xc3\\x83\\xc3\\x82'),\n",
       " (25835, b'----------------------------------------------------------------'),\n",
       " (31273,\n",
       "  b'\\xe2\\x80\\x94\\xe2\\x80\\x94\\xe2\\x80\\x94\\xe2\\x80\\x94\\xe2\\x80\\x94\\xe2\\x80\\x94\\xe2\\x80\\x94\\xe2\\x80\\x94\\xe2\\x80\\x94\\xe2\\x80\\x94\\xe2\\x80\\x94\\xe2\\x80\\x94\\xe2\\x80\\x94\\xe2\\x80\\x94\\xe2\\x80\\x94\\xe2\\x80\\x94'),\n",
       " (10899, b'--------------------------------'),\n",
       " (15946, b'________________________________'),\n",
       " (16884,\n",
       "  b'\\xc3\\x83\\xc3\\x82\\xc3\\x83\\xc3\\x82\\xc3\\x83\\xc3\\x82\\xc3\\x83\\xc3\\x82\\xc3\\x83\\xc3\\x82\\xc3\\x83\\xc3\\x82\\xc3\\x83\\xc3\\x82\\xc3\\x83\\xc3\\x82'),\n",
       " (25145, b'================================'),\n",
       " (28584, b'................................'),\n",
       " (31161, b'********************************'),\n",
       " (15278,\n",
       "  b'\\xe2\\x80\\x94\\xe2\\x80\\x94\\xe2\\x80\\x94\\xe2\\x80\\x94\\xe2\\x80\\x94\\xe2\\x80\\x94\\xe2\\x80\\x94\\xe2\\x80\\x94'),\n",
       " (23326, b' disproportionately'),\n",
       " (24267, b' telecommunications'),\n",
       " (28273, b' environmentalists'),\n",
       " (14283, b' responsibilities'),\n",
       " (16283, b' unconstitutional'),\n",
       " (25697, b' cryptocurrencies'),\n",
       " (26069, b' disproportionate'),\n",
       " (27036, b' misunderstanding'),\n",
       " (28492, b' counterterrorism'),\n",
       " (30209, b' characterization')]"
      ]
     },
     "execution_count": 45,
     "metadata": {},
     "output_type": "execute_result"
    }
   ],
   "source": [
    "sorted_vocab[:20]"
   ]
  },
  {
   "cell_type": "code",
   "execution_count": 62,
   "id": "a18aaf2f",
   "metadata": {},
   "outputs": [
    {
     "name": "stdout",
     "output_type": "stream",
     "text": [
      "13011 : b' thereby'; \n",
      "--------------------\n",
      "592 : b' there'; 1539 : b'by'; \n",
      "--------------------\n",
      "261 : b' the'; 260 : b're'; 98 : b'b'; 121 : b'y'; \n",
      "--------------------\n",
      "256 : b' t'; 258 : b'he'; 114 : b'r'; 101 : b'e'; 98 : b'b'; 121 : b'y'; \n",
      "--------------------\n"
     ]
    }
   ],
   "source": [
    "cur_level = [sorted_vocab[8000]]\n",
    "next_level = []\n",
    "while cur_level:\n",
    "  # if all tokens < 256, break\n",
    "  if all(i < 256 for i,_ in cur_level):\n",
    "    break\n",
    "  for (idx, token) in cur_level:\n",
    "    merge_pos = idx - 256\n",
    "    if merge_pos >= 0:\n",
    "      left_idx, right_idx = tok.merges[merge_pos]\n",
    "      next_level.append((left_idx, tok.vocab[left_idx]))\n",
    "      next_level.append((right_idx, tok.vocab[right_idx]))\n",
    "    else:\n",
    "      next_level.append((idx, token))\n",
    "    print(idx, ':', token, end='; ')\n",
    "  print()\n",
    "  print('-' * 20)\n",
    "  cur_level = next_level\n",
    "  next_level = []"
   ]
  },
  {
   "cell_type": "code",
   "execution_count": null,
   "id": "d1ddc6f4",
   "metadata": {},
   "outputs": [],
   "source": []
  }
 ],
 "metadata": {
  "kernelspec": {
   "display_name": ".venv",
   "language": "python",
   "name": "python3"
  },
  "language_info": {
   "codemirror_mode": {
    "name": "ipython",
    "version": 3
   },
   "file_extension": ".py",
   "mimetype": "text/x-python",
   "name": "python",
   "nbconvert_exporter": "python",
   "pygments_lexer": "ipython3",
   "version": "3.13.3"
  }
 },
 "nbformat": 4,
 "nbformat_minor": 5
}
