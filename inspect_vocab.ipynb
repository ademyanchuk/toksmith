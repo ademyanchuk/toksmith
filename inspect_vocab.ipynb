{
 "cells": [
  {
   "cell_type": "code",
   "execution_count": 1,
   "id": "af0315d4",
   "metadata": {},
   "outputs": [],
   "source": [
    "from toksmith.tokenizer import Tokenizer"
   ]
  },
  {
   "cell_type": "code",
   "execution_count": 2,
   "id": "b004f395",
   "metadata": {},
   "outputs": [],
   "source": [
    "tok = Tokenizer()\n",
    "tok.load_state('tiny_train_fast', 'out')"
   ]
  },
  {
   "cell_type": "code",
   "execution_count": 4,
   "id": "2720645a",
   "metadata": {},
   "outputs": [
    {
     "data": {
      "text/plain": [
       "9743"
      ]
     },
     "execution_count": 4,
     "metadata": {},
     "output_type": "execute_result"
    }
   ],
   "source": [
    "len(tok.merges)"
   ]
  },
  {
   "cell_type": "code",
   "execution_count": 5,
   "id": "792203a9",
   "metadata": {},
   "outputs": [
    {
     "data": {
      "text/plain": [
       "10000"
      ]
     },
     "execution_count": 5,
     "metadata": {},
     "output_type": "execute_result"
    }
   ],
   "source": [
    "len(tok.vocab)"
   ]
  },
  {
   "cell_type": "code",
   "execution_count": 13,
   "id": "98505b92",
   "metadata": {},
   "outputs": [],
   "source": [
    "sorted_vocab = [(k, v) for k, v in sorted(tok.vocab.items(), key=lambda x: -len(x[1]))]"
   ]
  },
  {
   "cell_type": "code",
   "execution_count": 14,
   "id": "7e7627cb",
   "metadata": {},
   "outputs": [
    {
     "data": {
      "text/plain": [
       "[(7160, b' accomplishment'),\n",
       " (9143, b' disappointment'),\n",
       " (9379, b' responsibility'),\n",
       " (3229, b' uncomfortable'),\n",
       " (3516, b' compassionate'),\n",
       " (5320, b' understanding'),\n",
       " (6386, b' neighbourhood'),\n",
       " (6498, b' Unfortunately'),\n",
       " (6874, b' determination'),\n",
       " (7755, b' encouragement')]"
      ]
     },
     "execution_count": 14,
     "metadata": {},
     "output_type": "execute_result"
    }
   ],
   "source": [
    "sorted_vocab[:10]"
   ]
  },
  {
   "cell_type": "code",
   "execution_count": 15,
   "id": "1fff421a",
   "metadata": {},
   "outputs": [
    {
     "data": {
      "text/plain": [
       "(6742, 2408)"
      ]
     },
     "execution_count": 15,
     "metadata": {},
     "output_type": "execute_result"
    }
   ],
   "source": [
    "tok.merges[7160 - 256]"
   ]
  },
  {
   "cell_type": "code",
   "execution_count": 16,
   "id": "817cd9bf",
   "metadata": {},
   "outputs": [
    {
     "data": {
      "text/plain": [
       "b' accomplish'"
      ]
     },
     "execution_count": 16,
     "metadata": {},
     "output_type": "execute_result"
    }
   ],
   "source": [
    "tok.vocab[6742]"
   ]
  },
  {
   "cell_type": "code",
   "execution_count": 37,
   "id": "a18aaf2f",
   "metadata": {},
   "outputs": [
    {
     "name": "stdout",
     "output_type": "stream",
     "text": [
      "5320 : b' understanding'; \n",
      "--------------------\n",
      "1649 : b' understand'; 298 : b'ing'; \n",
      "--------------------\n",
      "1455 : b' underst'; 790 : b'and'; 269 : b'in'; 103 : b'g'; \n",
      "--------------------\n",
      "778 : b' under'; 350 : b'st'; 97 : b'a'; 261 : b'nd'; 105 : b'i'; 110 : b'n'; 103 : b'g'; \n",
      "--------------------\n",
      "322 : b' u'; 663 : b'nder'; 115 : b's'; 116 : b't'; 97 : b'a'; 110 : b'n'; 100 : b'd'; 105 : b'i'; 110 : b'n'; 103 : b'g'; \n",
      "--------------------\n",
      "32 : b' '; 117 : b'u'; 261 : b'nd'; 281 : b'er'; 115 : b's'; 116 : b't'; 97 : b'a'; 110 : b'n'; 100 : b'd'; 105 : b'i'; 110 : b'n'; 103 : b'g'; \n",
      "--------------------\n"
     ]
    }
   ],
   "source": [
    "cur_level = [sorted_vocab[5]]\n",
    "next_level = []\n",
    "while cur_level:\n",
    "  # if all tokens < 256, break\n",
    "  if all(i < 256 for i,_ in cur_level):\n",
    "    break\n",
    "  for (idx, token) in cur_level:\n",
    "    merge_pos = idx - 256\n",
    "    if merge_pos >= 0:\n",
    "      left_idx, right_idx = tok.merges[merge_pos]\n",
    "      next_level.append((left_idx, tok.vocab[left_idx]))\n",
    "      next_level.append((right_idx, tok.vocab[right_idx]))\n",
    "    else:\n",
    "      next_level.append((idx, token))\n",
    "    print(idx, ':', token, end='; ')\n",
    "  print()\n",
    "  print('-' * 20)\n",
    "  cur_level = next_level\n",
    "  next_level = []"
   ]
  },
  {
   "cell_type": "code",
   "execution_count": null,
   "id": "d1ddc6f4",
   "metadata": {},
   "outputs": [],
   "source": []
  }
 ],
 "metadata": {
  "kernelspec": {
   "display_name": ".venv",
   "language": "python",
   "name": "python3"
  },
  "language_info": {
   "codemirror_mode": {
    "name": "ipython",
    "version": 3
   },
   "file_extension": ".py",
   "mimetype": "text/x-python",
   "name": "python",
   "nbconvert_exporter": "python",
   "pygments_lexer": "ipython3",
   "version": "3.13.3"
  }
 },
 "nbformat": 4,
 "nbformat_minor": 5
}
